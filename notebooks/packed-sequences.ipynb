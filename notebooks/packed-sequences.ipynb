{
 "cells": [
  {
   "cell_type": "markdown",
   "id": "252ac37c",
   "metadata": {},
   "source": [
    "# Packed sequences\n"
   ]
  },
  {
   "cell_type": "code",
   "execution_count": 195,
   "id": "15688fca",
   "metadata": {},
   "outputs": [
    {
     "name": "stdout",
     "output_type": "stream",
     "text": [
      "The autoreload extension is already loaded. To reload it, use:\n",
      "  %reload_ext autoreload\n"
     ]
    }
   ],
   "source": [
    "%load_ext autoreload\n",
    "%autoreload 2\n",
    "\n",
    "\n",
    "from src.data.datasets import SiteDataset, FloorDataset\n",
    "from src.models.initial_model import InitialModel\n",
    "from src.models.model_trainer import ModelTrainer\n",
    "\n",
    "import torch\n",
    "from torch.nn.utils.rnn import pack_sequence, PackedSequence\n",
    "\n",
    "import pyro"
   ]
  },
  {
   "cell_type": "code",
   "execution_count": 196,
   "id": "a9c59280",
   "metadata": {},
   "outputs": [],
   "source": [
    "torch.manual_seed(123456789)\n",
    "\n",
    "# Load data\n",
    "site_data = SiteDataset(\n",
    "    \"5a0546857ecc773753327266\", wifi_threshold=200, sampling_interval=100\n",
    ")\n",
    "floor = site_data.floors[0]\n",
    "\n",
    "# Setup model\n",
    "model = InitialModel(floor)\n",
    "\n",
    "# Setup the optimizer\n",
    "adam_params = {\"lr\": 1e-2}  # ., \"betas\":(0.95, 0.999)}\n",
    "optimizer = torch.optim.Adam(model.parameters(), **adam_params)"
   ]
  },
  {
   "cell_type": "code",
   "execution_count": 197,
   "id": "77877bbe",
   "metadata": {},
   "outputs": [
    {
     "name": "stdout",
     "output_type": "stream",
     "text": [
      "epoch[0] ELBO: 34722207.9\n",
      "CPU times: user 25.1 s, sys: 10.1 s, total: 35.1 s\n",
      "Wall time: 21.1 s\n"
     ]
    }
   ],
   "source": [
    "%%time\n",
    "mt = ModelTrainer(\n",
    "    model=model,\n",
    "    optimizer=optimizer,\n",
    "    n_epochs=1,\n",
    ")\n",
    "mt.train(floor)"
   ]
  },
  {
   "cell_type": "code",
   "execution_count": 211,
   "id": "a1cac5b8",
   "metadata": {},
   "outputs": [],
   "source": [
    "class PackedFloorDataset(FloorDataset):\n",
    "    \n",
    "    def __getitem__(self, indices):\n",
    "\n",
    "        time_unpadded, position_unpadded, wifi_unpadded = self._generate_tensors()\n",
    "        \n",
    "        sorted_order = torch.tensor([-len(time_unpadded[x]) for x in indices]).argsort()\n",
    "        mini_batch_index = [indices[i] for i in sorted_order]\n",
    "        \n",
    "        mini_batch_time = pack_sequence([time_unpadded[i] for i in mini_batch_index])\n",
    "        \n",
    "        mini_batch_position = pack_sequence([position_unpadded[i] for i in mini_batch_index])\n",
    "        mini_batch_position_mask = PackedSequence(\n",
    "            ~mini_batch_position.data.isnan().any(dim=-1),\n",
    "            mini_batch_position.batch_sizes\n",
    "        )\n",
    "        \n",
    "\n",
    "        mini_batch_wifi = pack_sequence([wifi_unpadded[i] for i in mini_batch_index])\n",
    "        mini_batch_wifi_mask = PackedSequence(\n",
    "            ~mini_batch_wifi.data.isnan(),\n",
    "            mini_batch_wifi.batch_sizes\n",
    "        )\n",
    "\n",
    "        return (\n",
    "            mini_batch_index,\n",
    "            mini_batch_time,\n",
    "            mini_batch_position,\n",
    "            mini_batch_position_mask,\n",
    "            mini_batch_wifi,\n",
    "            mini_batch_wifi_mask\n",
    "        )"
   ]
  },
  {
   "cell_type": "code",
   "execution_count": 212,
   "id": "f20cffad",
   "metadata": {},
   "outputs": [],
   "source": [
    "from src.models.packed_model import PackedInitialModel"
   ]
  },
  {
   "cell_type": "code",
   "execution_count": 213,
   "id": "1770bcae",
   "metadata": {},
   "outputs": [],
   "source": [
    "packed_floor_data = PackedFloorDataset(floor.site_id, floor.floor_id, wifi_threshold=200, sampling_interval=100)"
   ]
  },
  {
   "cell_type": "code",
   "execution_count": 214,
   "id": "6414b66f",
   "metadata": {},
   "outputs": [],
   "source": [
    "indices = [8, 9, 10, 11, 12, 13, 14, 15]\n",
    "mini_batch = packed_floor_data[indices]"
   ]
  },
  {
   "cell_type": "code",
   "execution_count": 215,
   "id": "df813b43",
   "metadata": {},
   "outputs": [],
   "source": [
    "packed_model = PackedInitialModel(floor)"
   ]
  },
  {
   "cell_type": "code",
   "execution_count": 228,
   "id": "5751cf50",
   "metadata": {},
   "outputs": [
    {
     "name": "stdout",
     "output_type": "stream",
     "text": [
      "torch.Size([8, 13, 3, 2])\n"
     ]
    }
   ],
   "source": [
    "with pyro.plate(\"A\", 3):\n",
    "    with pyro.plate(\"B\", 13):\n",
    "        x_0, x = packed_model.model(*mini_batch)"
   ]
  },
  {
   "cell_type": "code",
   "execution_count": 229,
   "id": "d0aa2d43",
   "metadata": {},
   "outputs": [
    {
     "data": {
      "text/plain": [
       "torch.Size([8, 13, 3, 2])"
      ]
     },
     "execution_count": 229,
     "metadata": {},
     "output_type": "execute_result"
    }
   ],
   "source": [
    "x_0.shape"
   ]
  },
  {
   "cell_type": "code",
   "execution_count": 231,
   "id": "a846e58d",
   "metadata": {},
   "outputs": [
    {
     "data": {
      "text/plain": [
       "tensor([[[[ 38.2373, 272.6837],\n",
       "          [ 69.7852,  54.6544],\n",
       "          [ 57.5826, 233.3924]],\n",
       "\n",
       "         [[149.2876,  38.6550],\n",
       "          [ 65.6305, 233.1351],\n",
       "          [106.5674,  28.1526]],\n",
       "\n",
       "         [[ 74.9254, 200.9640],\n",
       "          [111.6512,  53.8550],\n",
       "          [ 98.6935, 114.8946]],\n",
       "\n",
       "         ...,\n",
       "\n",
       "         [[ 89.1065, 179.5762],\n",
       "          [ 94.9299, 116.0197],\n",
       "          [ 23.2459, 243.5230]],\n",
       "\n",
       "         [[153.5782,  19.4106],\n",
       "          [ 83.8926, -42.5179],\n",
       "          [ 14.3921, 143.1124]],\n",
       "\n",
       "         [[112.8395, 120.1057],\n",
       "          [114.9165, 183.5617],\n",
       "          [ 54.6879, 132.4061]]],\n",
       "\n",
       "\n",
       "        [[[140.9142,  96.3889],\n",
       "          [-13.8576, 176.7368],\n",
       "          [125.1393, 236.9658]],\n",
       "\n",
       "         [[ 34.6568, 122.2154],\n",
       "          [104.3158, 173.1718],\n",
       "          [144.8387,  -1.6508]],\n",
       "\n",
       "         [[ 79.7721, 187.2497],\n",
       "          [ 69.2973, 186.9853],\n",
       "          [ 36.3596,  13.7312]],\n",
       "\n",
       "         ...,\n",
       "\n",
       "         [[ 90.8872, 239.7402],\n",
       "          [ 31.1628, 215.2138],\n",
       "          [124.7947,  64.5652]],\n",
       "\n",
       "         [[119.2235, 144.5196],\n",
       "          [ 61.2626, 157.6012],\n",
       "          [104.7293,  88.0882]],\n",
       "\n",
       "         [[ 83.5520, 158.9470],\n",
       "          [101.1931, 202.7083],\n",
       "          [142.7249, 210.3025]]],\n",
       "\n",
       "\n",
       "        [[[ 85.7827, 147.8470],\n",
       "          [108.9198, 146.8682],\n",
       "          [ 34.4649, 191.1125]],\n",
       "\n",
       "         [[ 93.9975, 282.4577],\n",
       "          [ 88.9491, 161.2270],\n",
       "          [139.0026, 181.9057]],\n",
       "\n",
       "         [[ 50.1908,  -9.0269],\n",
       "          [ 91.5871, 190.5474],\n",
       "          [193.7559, 209.7171]],\n",
       "\n",
       "         ...,\n",
       "\n",
       "         [[ 30.4447, 122.9121],\n",
       "          [ -6.3557, 183.3755],\n",
       "          [139.1100, 267.2017]],\n",
       "\n",
       "         [[167.9375, 223.1370],\n",
       "          [113.5038,  96.1939],\n",
       "          [155.0605,  95.3881]],\n",
       "\n",
       "         [[170.7893, 152.6493],\n",
       "          [ 68.1814, 135.9299],\n",
       "          [123.9737, 211.8309]]],\n",
       "\n",
       "\n",
       "        ...,\n",
       "\n",
       "\n",
       "        [[[  0.0000,   0.0000],\n",
       "          [  0.0000,   0.0000],\n",
       "          [  0.0000,   0.0000]],\n",
       "\n",
       "         [[  0.0000,   0.0000],\n",
       "          [  0.0000,   0.0000],\n",
       "          [  0.0000,   0.0000]],\n",
       "\n",
       "         [[  0.0000,   0.0000],\n",
       "          [  0.0000,   0.0000],\n",
       "          [  0.0000,   0.0000]],\n",
       "\n",
       "         ...,\n",
       "\n",
       "         [[  0.0000,   0.0000],\n",
       "          [  0.0000,   0.0000],\n",
       "          [  0.0000,   0.0000]],\n",
       "\n",
       "         [[  0.0000,   0.0000],\n",
       "          [  0.0000,   0.0000],\n",
       "          [  0.0000,   0.0000]],\n",
       "\n",
       "         [[  0.0000,   0.0000],\n",
       "          [  0.0000,   0.0000],\n",
       "          [  0.0000,   0.0000]]],\n",
       "\n",
       "\n",
       "        [[[  0.0000,   0.0000],\n",
       "          [  0.0000,   0.0000],\n",
       "          [  0.0000,   0.0000]],\n",
       "\n",
       "         [[  0.0000,   0.0000],\n",
       "          [  0.0000,   0.0000],\n",
       "          [  0.0000,   0.0000]],\n",
       "\n",
       "         [[  0.0000,   0.0000],\n",
       "          [  0.0000,   0.0000],\n",
       "          [  0.0000,   0.0000]],\n",
       "\n",
       "         ...,\n",
       "\n",
       "         [[  0.0000,   0.0000],\n",
       "          [  0.0000,   0.0000],\n",
       "          [  0.0000,   0.0000]],\n",
       "\n",
       "         [[  0.0000,   0.0000],\n",
       "          [  0.0000,   0.0000],\n",
       "          [  0.0000,   0.0000]],\n",
       "\n",
       "         [[  0.0000,   0.0000],\n",
       "          [  0.0000,   0.0000],\n",
       "          [  0.0000,   0.0000]]],\n",
       "\n",
       "\n",
       "        [[[  0.0000,   0.0000],\n",
       "          [  0.0000,   0.0000],\n",
       "          [  0.0000,   0.0000]],\n",
       "\n",
       "         [[  0.0000,   0.0000],\n",
       "          [  0.0000,   0.0000],\n",
       "          [  0.0000,   0.0000]],\n",
       "\n",
       "         [[  0.0000,   0.0000],\n",
       "          [  0.0000,   0.0000],\n",
       "          [  0.0000,   0.0000]],\n",
       "\n",
       "         ...,\n",
       "\n",
       "         [[  0.0000,   0.0000],\n",
       "          [  0.0000,   0.0000],\n",
       "          [  0.0000,   0.0000]],\n",
       "\n",
       "         [[  0.0000,   0.0000],\n",
       "          [  0.0000,   0.0000],\n",
       "          [  0.0000,   0.0000]],\n",
       "\n",
       "         [[  0.0000,   0.0000],\n",
       "          [  0.0000,   0.0000],\n",
       "          [  0.0000,   0.0000]]]], dtype=torch.float64)"
      ]
     },
     "execution_count": 231,
     "metadata": {},
     "output_type": "execute_result"
    }
   ],
   "source": [
    "x"
   ]
  },
  {
   "cell_type": "code",
   "execution_count": null,
   "id": "b1ff1409",
   "metadata": {},
   "outputs": [],
   "source": []
  }
 ],
 "metadata": {
  "kernelspec": {
   "display_name": "Python 3",
   "language": "python",
   "name": "python3"
  },
  "language_info": {
   "codemirror_mode": {
    "name": "ipython",
    "version": 3
   },
   "file_extension": ".py",
   "mimetype": "text/x-python",
   "name": "python",
   "nbconvert_exporter": "python",
   "pygments_lexer": "ipython3",
   "version": "3.9.2"
  }
 },
 "nbformat": 4,
 "nbformat_minor": 5
}
