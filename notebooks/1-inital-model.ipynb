{
 "cells": [
  {
   "cell_type": "code",
   "execution_count": null,
   "metadata": {},
   "outputs": [],
   "source": []
  },
  {
   "cell_type": "code",
   "execution_count": 22,
   "metadata": {},
   "outputs": [],
   "source": [
    "from src.data.datasets import SiteDataset\n",
    "import jax.numpy as jnp\n",
    "site_data = SiteDataset(\"5a0546857ecc773753327266\")\n",
    "\n",
    "floor = site_data.floors[0]\n",
    "trace = floor.traces[0]\n",
    "matrices = trace.matrices\n",
    "position = matrices[\"position\"]\n",
    "wifi = matrices[\"wifi\"]\n",
    "from numpyro import handlers\n",
    "import numpyro.distributions as dist\n",
    "from numpyro import sample, plate"
   ]
  },
  {
   "cell_type": "code",
   "execution_count": 2,
   "metadata": {},
   "outputs": [],
   "source": [
    "height, width = floor.info[\"map_info\"][\"height\"], floor.info[\"map_info\"][\"width\"]"
   ]
  },
  {
   "cell_type": "code",
   "execution_count": 3,
   "metadata": {},
   "outputs": [],
   "source": [
    "floor_uniform = dist.Independent(\n",
    "    dist.Uniform(low=jnp.array([0, 0]), high=jnp.array([height, width])), 1\n",
    ")\n"
   ]
  },
  {
   "cell_type": "code",
   "execution_count": 17,
   "metadata": {},
   "outputs": [
    {
     "name": "stdout",
     "output_type": "stream",
     "text": [
      "[117.9239   80.87863]\n"
     ]
    }
   ],
   "source": [
    "with handlers.seed(rng_seed=0):\n",
    "    print(sample(\"location\", floor_uniform))"
   ]
  },
  {
   "cell_type": "code",
   "execution_count": 41,
   "metadata": {},
   "outputs": [
    {
     "data": {
      "text/plain": "DeviceArray(4, dtype=int32)"
     },
     "execution_count": 41,
     "metadata": {},
     "output_type": "execute_result"
    }
   ],
   "source": [
    "(~jnp.isnan(position[:, 0])).sum()"
   ]
  },
  {
   "cell_type": "code",
   "execution_count": 43,
   "metadata": {},
   "outputs": [
    {
     "ename": "TypeError",
     "evalue": "'<class 'jax.interpreters.xla._DeviceArray'>' object does not support item assignment. JAX arrays are immutable; perhaps you want jax.ops.index_update or jax.ops.index_add instead?",
     "output_type": "error",
     "traceback": [
      "\u001b[0;31m---------------------------------------------------------------------------\u001b[0m",
      "\u001b[0;31mTypeError\u001b[0m                                 Traceback (most recent call last)",
      "\u001b[0;32m<ipython-input-43-f72f9bb4ae7a>\u001b[0m in \u001b[0;36m<module>\u001b[0;34m\u001b[0m\n\u001b[1;32m     52\u001b[0m \u001b[0;34m\u001b[0m\u001b[0m\n\u001b[1;32m     53\u001b[0m \u001b[0;32mwith\u001b[0m \u001b[0mhandlers\u001b[0m\u001b[0;34m.\u001b[0m\u001b[0mseed\u001b[0m\u001b[0;34m(\u001b[0m\u001b[0mrng_seed\u001b[0m\u001b[0;34m=\u001b[0m\u001b[0;36m0\u001b[0m\u001b[0;34m)\u001b[0m\u001b[0;34m:\u001b[0m\u001b[0;34m\u001b[0m\u001b[0;34m\u001b[0m\u001b[0m\n\u001b[0;32m---> 54\u001b[0;31m     \u001b[0minitial_model\u001b[0m\u001b[0;34m(\u001b[0m\u001b[0mposition\u001b[0m\u001b[0;34m,\u001b[0m \u001b[0mwifi\u001b[0m\u001b[0;34m)\u001b[0m\u001b[0;34m\u001b[0m\u001b[0;34m\u001b[0m\u001b[0m\n\u001b[0m",
      "\u001b[0;32m<ipython-input-43-f72f9bb4ae7a>\u001b[0m in \u001b[0;36minitial_model\u001b[0;34m(position, wifi)\u001b[0m\n\u001b[1;32m     18\u001b[0m \u001b[0;34m\u001b[0m\u001b[0m\n\u001b[1;32m     19\u001b[0m     \u001b[0mx\u001b[0m \u001b[0;34m=\u001b[0m \u001b[0mjnp\u001b[0m\u001b[0;34m.\u001b[0m\u001b[0mzeros\u001b[0m\u001b[0;34m(\u001b[0m\u001b[0;34m(\u001b[0m\u001b[0mT\u001b[0m\u001b[0;34m,\u001b[0m \u001b[0;36m2\u001b[0m\u001b[0;34m)\u001b[0m\u001b[0;34m)\u001b[0m\u001b[0;34m\u001b[0m\u001b[0;34m\u001b[0m\u001b[0m\n\u001b[0;32m---> 20\u001b[0;31m     \u001b[0mx\u001b[0m\u001b[0;34m[\u001b[0m\u001b[0;36m0\u001b[0m\u001b[0;34m,\u001b[0m \u001b[0;34m:\u001b[0m\u001b[0;34m]\u001b[0m \u001b[0;34m=\u001b[0m \u001b[0msample\u001b[0m\u001b[0;34m(\u001b[0m\u001b[0;34m\"x_0\"\u001b[0m\u001b[0;34m,\u001b[0m \u001b[0mfloor_uniform\u001b[0m\u001b[0;34m)\u001b[0m\u001b[0;34m\u001b[0m\u001b[0;34m\u001b[0m\u001b[0m\n\u001b[0m\u001b[1;32m     21\u001b[0m \u001b[0;34m\u001b[0m\u001b[0m\n\u001b[1;32m     22\u001b[0m     \u001b[0;32mfor\u001b[0m \u001b[0mt\u001b[0m \u001b[0;32min\u001b[0m \u001b[0mrange\u001b[0m\u001b[0;34m(\u001b[0m\u001b[0;36m1\u001b[0m\u001b[0;34m,\u001b[0m \u001b[0mT\u001b[0m\u001b[0;34m)\u001b[0m\u001b[0;34m:\u001b[0m\u001b[0;34m\u001b[0m\u001b[0;34m\u001b[0m\u001b[0m\n",
      "\u001b[0;32m~/Documents/DTU/Semester10/42186/indoor-location-navigation.nosync/.venv/lib/python3.9/site-packages/jax/_src/numpy/lax_numpy.py\u001b[0m in \u001b[0;36m_unimplemented_setitem\u001b[0;34m(self, i, x)\u001b[0m\n\u001b[1;32m   5264\u001b[0m          \u001b[0;34m\"immutable; perhaps you want jax.ops.index_update or \"\u001b[0m\u001b[0;34m\u001b[0m\u001b[0;34m\u001b[0m\u001b[0m\n\u001b[1;32m   5265\u001b[0m          \"jax.ops.index_add instead?\")\n\u001b[0;32m-> 5266\u001b[0;31m   \u001b[0;32mraise\u001b[0m \u001b[0mTypeError\u001b[0m\u001b[0;34m(\u001b[0m\u001b[0mmsg\u001b[0m\u001b[0;34m.\u001b[0m\u001b[0mformat\u001b[0m\u001b[0;34m(\u001b[0m\u001b[0mtype\u001b[0m\u001b[0;34m(\u001b[0m\u001b[0mself\u001b[0m\u001b[0;34m)\u001b[0m\u001b[0;34m)\u001b[0m\u001b[0;34m)\u001b[0m\u001b[0;34m\u001b[0m\u001b[0;34m\u001b[0m\u001b[0m\n\u001b[0m\u001b[1;32m   5267\u001b[0m \u001b[0;34m\u001b[0m\u001b[0m\n\u001b[1;32m   5268\u001b[0m \u001b[0;32mdef\u001b[0m \u001b[0m_operator_round\u001b[0m\u001b[0;34m(\u001b[0m\u001b[0mnumber\u001b[0m\u001b[0;34m,\u001b[0m \u001b[0mndigits\u001b[0m\u001b[0;34m=\u001b[0m\u001b[0;32mNone\u001b[0m\u001b[0;34m)\u001b[0m\u001b[0;34m:\u001b[0m\u001b[0;34m\u001b[0m\u001b[0;34m\u001b[0m\u001b[0m\n",
      "\u001b[0;31mTypeError\u001b[0m: '<class 'jax.interpreters.xla._DeviceArray'>' object does not support item assignment. JAX arrays are immutable; perhaps you want jax.ops.index_update or jax.ops.index_add instead?"
     ]
    }
   ],
   "source": [
    "def initial_model(position, wifi):\n",
    "\n",
    "    T = position.shape[0]\n",
    "    K = wifi.shape[1]\n",
    "\n",
    "    location_observed = ~jnp.isnan(position[:, 0])\n",
    "\n",
    "    sigma_eps = 0.1\n",
    "    sigma = 0.1\n",
    "\n",
    "    mu_omega_0 = -45\n",
    "    sigma_omega_0 = 5\n",
    "    sigma_omega = 2\n",
    "\n",
    "    with plate(\"wifis\", K):\n",
    "        omega_0 = sample(\"omega_0\", dist.Normal(mu_omega_0, sigma_omega_0))\n",
    "        wifi_locations = sample(\"wifi_location\", floor_uniform)\n",
    "\n",
    "    x = jnp.zeros((T, 2))\n",
    "\n",
    "    x0 = sample(\"x_0\", floor_uniform)\n",
    "\n",
    "    for t in range(1, T):\n",
    "        x[t, :] = sample(f\"x_{1}\", dist.Normal(x[t - 1, :], sigma))\n",
    "\n",
    "    with plate(\"x_obs\", sum(location_observed)):\n",
    "        x_obs = sample(\n",
    "            f\"x_obs\",\n",
    "            dist.Normal(x[location_observed, :], sigma_eps),\n",
    "            obs=position[location_observed, :],\n",
    "        )\n",
    "\n",
    "#     beta = numpyro.sample(\"beta\", dist.Normal(0, 1).expand((2)))\n",
    "\n",
    "#     sigma = numpyro.sample(\"sigma\", dist.HalfCauchy(1))\n",
    "#     tau = numpyro.sample(\"tau\", dist.HalfCauchy(1))\n",
    "\n",
    "#     z = np.zeros((T + T_forecast))\n",
    "#     y = np.zeros((T + T_forecast))\n",
    "\n",
    "#     z[0, :] = numpyro.sample(\"z0\", dist.Normal(0.05, 0.1))\n",
    "#     z[1, :] = numpyro.sample(\"z1\", dist.Normal(beta[:, 0]*z[0, :]))\n",
    "\n",
    "#     for i in range(2, T):\n",
    "#         z[i, :] = numpyro.sample(f\"z{i}\", dist.Normal(beta[:, 0]*z[i-1, :] + beta[:, 0]*z[i-2, :], tau))\n",
    "\n",
    "#     y[:T, :] = numpyro.sample(\"y\", dist.Normal(z[:T, :], sigma), obs=obs)\n",
    "\n",
    "#     for i in range(T, T + T_forecast):\n",
    "#         z[i, :] = numpyro.sample(f\"z{i}\", dist.Normal(beta[:, 0]*z[i-1, :] + beta[:, 0]*z[i-2, :], tau ))\n",
    "\n",
    "#     y[T:, :] = numpyro.sample(\"y_forecast\", dist.Normal(z[T:, :], sigma))\n",
    "\n",
    "with handlers.seed(rng_seed=0):\n",
    "    initial_model(position, wifi)\n"
   ]
  }
 ],
 "metadata": {
  "kernelspec": {
   "display_name": "Python 3.9.2  ('.venv': venv)",
   "name": "pythonjvsc74a57bd004d12789f47ca115d7ef1a39d997101d29a535d995c3316df46e69717c877462"
  },
  "language_info": {
   "name": "python",
   "version": ""
  },
  "metadata": {
   "interpreter": {
    "hash": "04d12789f47ca115d7ef1a39d997101d29a535d995c3316df46e69717c877462"
   }
  },
  "orig_nbformat": 2
 },
 "nbformat": 4,
 "nbformat_minor": 2
}