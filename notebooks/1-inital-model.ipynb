{
 "cells": [
  {
   "cell_type": "code",
   "execution_count": 3,
   "metadata": {},
   "outputs": [],
   "source": [
    "from src.data.datasets import SiteDataset\n",
    "site_data = SiteDataset(\"5a0546857ecc773753327266\")\n",
    "\n",
    "matrices = site_data.floors[0].traces[0].matrices\n",
    "position = matrices[\"position\"]\n",
    "wifi = matrices[\"wifi\"]\n",
    "\n",
    "from numpyro import handlers\n",
    "import numpyro.distributions as dist\n",
    "import numpyro as pyro"
   ]
  },
  {
   "cell_type": "code",
   "execution_count": 11,
   "metadata": {},
   "outputs": [
    {
     "name": "stdout",
     "output_type": "stream",
     "text": [
      "[-41.414745 -54.820145 -40.17958  -45.671997 -42.939594 -53.15374\n",
      " -50.452488 -49.57104  -49.759533 -43.930695 -39.826225 -46.613983\n",
      " -46.703846 -49.35623  -44.74215  -50.42688  -44.002472 -43.601482\n",
      " -48.23572  -49.805386 -34.82623  -51.110687 -41.324646 -38.963425\n",
      " -42.538105 -47.660084 -44.96948  -48.89496  -48.354725 -36.91958\n",
      " -42.14772  -42.543    -37.957413 -39.89634  -37.269012 -46.3347\n",
      " -45.03985  -43.75513  -41.80817  -41.941303 -42.51546  -40.729023\n",
      " -41.42651  -40.62421  -41.93764  -43.812496 -42.564346 -59.36721\n",
      " -46.29173  -49.76624  -46.143932 -48.43166  -48.90017  -42.927578\n",
      " -47.896397 -41.921185 -47.21708  -48.46513  -45.59109  -40.931908\n",
      " -39.910694 -48.058746 -40.981873 -42.242393 -50.499573 -43.850815\n",
      " -49.457077 -53.591118 -50.310677 -48.637424 -41.079197 -43.186348\n",
      " -45.241146 -58.736874 -51.289577 -44.854706 -47.452194 -48.29731\n",
      " -35.029053 -46.458717 -50.187862 -36.98297  -44.847317 -44.970688\n",
      " -51.59126  -59.408775 -48.62546  -41.952896 -39.59641  -41.871845\n",
      " -44.054466 -33.785538 -41.115166 -45.099667 -35.31499  -41.312588\n",
      " -50.282295 -47.57939  -47.231    -46.638794 -51.776333 -46.483425\n",
      " -36.991688 -46.29955  -50.483887 -34.178852 -47.714363 -47.143547\n",
      " -49.492393 -47.138107 -35.829407 -44.74425  -45.007343 -46.992065\n",
      " -37.734146 -46.778923 -55.058483 -48.511215 -47.260647 -38.854485\n",
      " -38.525818 -46.01079  -50.163155 -50.44931  -37.038017 -44.880238\n",
      " -43.781208 -50.758068 -58.56983  -39.496834 -49.02977  -40.585903\n",
      " -50.08684  -48.693253 -52.10002  -47.39016 ]\n"
     ]
    }
   ],
   "source": [
    "def initial_model(position, wifi):\n",
    "\n",
    "    T = position.shape[0]\n",
    "    K = wifi.shape[1]\n",
    "\n",
    "    sigma_eps = 0.1\n",
    "    sigma = 0.1 \n",
    "\n",
    "    mu_omega_0 = -45 \n",
    "    sigma_omega_0 = 5\n",
    "    sigma_omega = 2\n",
    "\n",
    "    with pyro.plate(\"wifis\", K):\n",
    "        omega_0 = pyro.sample(\"omega_0\", pyro.distributions.Normal(mu_omega_0, sigma_omega_0))\n",
    "    \n",
    "\n",
    "\n",
    "\n",
    "\n",
    "\n",
    "#     beta = numpyro.sample(\"beta\", dist.Normal(0, 1).expand((2)))\n",
    "\n",
    "#     sigma = numpyro.sample(\"sigma\", dist.HalfCauchy(1))\n",
    "#     tau = numpyro.sample(\"tau\", dist.HalfCauchy(1))\n",
    "    \n",
    "#     z = np.zeros((T + T_forecast))\n",
    "#     y = np.zeros((T + T_forecast))\n",
    "\n",
    "#     z[0, :] = numpyro.sample(\"z0\", dist.Normal(0.05, 0.1))\n",
    "#     z[1, :] = numpyro.sample(\"z1\", dist.Normal(beta[:, 0]*z[0, :]))\n",
    "\n",
    "#     for i in range(2, T):\n",
    "#         z[i, :] = numpyro.sample(f\"z{i}\", dist.Normal(beta[:, 0]*z[i-1, :] + beta[:, 0]*z[i-2, :], tau))\n",
    "\n",
    "#     y[:T, :] = numpyro.sample(\"y\", dist.Normal(z[:T, :], sigma), obs=obs)\n",
    "\n",
    "#     for i in range(T, T + T_forecast):\n",
    "#         z[i, :] = numpyro.sample(f\"z{i}\", dist.Normal(beta[:, 0]*z[i-1, :] + beta[:, 0]*z[i-2, :], tau ))\n",
    "\n",
    "#     y[T:, :] = numpyro.sample(\"y_forecast\", dist.Normal(z[T:, :], sigma))\n",
    "\n",
    "with handlers.seed(rng_seed=0):\n",
    "    print(initial_model(position, wifi))\n",
    "    "
   ]
  },
  {
   "cell_type": "code",
   "execution_count": 8,
   "metadata": {},
   "outputs": [
    {
     "data": {
      "text/plain": "array([[230.03738, 153.49635],\n       [      nan,       nan],\n       [      nan,       nan],\n       [      nan,       nan],\n       [      nan,       nan],\n       [      nan,       nan],\n       [      nan,       nan],\n       [      nan,       nan],\n       [      nan,       nan],\n       [      nan,       nan],\n       [      nan,       nan],\n       [      nan,       nan],\n       [      nan,       nan],\n       [      nan,       nan],\n       [      nan,       nan],\n       [      nan,       nan],\n       [      nan,       nan],\n       [      nan,       nan],\n       [      nan,       nan],\n       [      nan,       nan],\n       [      nan,       nan],\n       [      nan,       nan],\n       [      nan,       nan],\n       [      nan,       nan],\n       [      nan,       nan],\n       [      nan,       nan],\n       [      nan,       nan],\n       [      nan,       nan],\n       [      nan,       nan],\n       [      nan,       nan],\n       [      nan,       nan],\n       [      nan,       nan],\n       [      nan,       nan],\n       [      nan,       nan],\n       [      nan,       nan],\n       [      nan,       nan],\n       [      nan,       nan],\n       [      nan,       nan],\n       [      nan,       nan],\n       [      nan,       nan],\n       [      nan,       nan],\n       [      nan,       nan],\n       [      nan,       nan],\n       [      nan,       nan],\n       [      nan,       nan],\n       [      nan,       nan],\n       [      nan,       nan],\n       [      nan,       nan],\n       [      nan,       nan],\n       [      nan,       nan],\n       [      nan,       nan],\n       [      nan,       nan],\n       [      nan,       nan],\n       [      nan,       nan],\n       [      nan,       nan],\n       [      nan,       nan],\n       [      nan,       nan],\n       [      nan,       nan],\n       [      nan,       nan],\n       [      nan,       nan],\n       [      nan,       nan],\n       [      nan,       nan],\n       [      nan,       nan],\n       [      nan,       nan],\n       [      nan,       nan],\n       [      nan,       nan],\n       [      nan,       nan],\n       [      nan,       nan],\n       [      nan,       nan],\n       [      nan,       nan],\n       [      nan,       nan],\n       [      nan,       nan],\n       [      nan,       nan],\n       [      nan,       nan],\n       [      nan,       nan],\n       [      nan,       nan],\n       [      nan,       nan],\n       [      nan,       nan],\n       [      nan,       nan],\n       [      nan,       nan],\n       [      nan,       nan],\n       [      nan,       nan],\n       [      nan,       nan],\n       [      nan,       nan],\n       [      nan,       nan],\n       [      nan,       nan],\n       [      nan,       nan],\n       [      nan,       nan],\n       [      nan,       nan],\n       [      nan,       nan],\n       [      nan,       nan],\n       [      nan,       nan],\n       [      nan,       nan],\n       [      nan,       nan],\n       [      nan,       nan],\n       [      nan,       nan],\n       [      nan,       nan],\n       [      nan,       nan],\n       [      nan,       nan],\n       [      nan,       nan],\n       [      nan,       nan],\n       [231.4029 , 158.41515],\n       [      nan,       nan],\n       [      nan,       nan],\n       [      nan,       nan],\n       [      nan,       nan],\n       [      nan,       nan],\n       [      nan,       nan],\n       [      nan,       nan],\n       [      nan,       nan],\n       [      nan,       nan],\n       [      nan,       nan],\n       [      nan,       nan],\n       [      nan,       nan],\n       [      nan,       nan],\n       [      nan,       nan],\n       [      nan,       nan],\n       [      nan,       nan],\n       [      nan,       nan],\n       [      nan,       nan],\n       [      nan,       nan],\n       [      nan,       nan],\n       [      nan,       nan],\n       [      nan,       nan],\n       [      nan,       nan],\n       [      nan,       nan],\n       [      nan,       nan],\n       [      nan,       nan],\n       [      nan,       nan],\n       [      nan,       nan],\n       [      nan,       nan],\n       [      nan,       nan],\n       [      nan,       nan],\n       [      nan,       nan],\n       [      nan,       nan],\n       [      nan,       nan],\n       [      nan,       nan],\n       [      nan,       nan],\n       [      nan,       nan],\n       [      nan,       nan],\n       [      nan,       nan],\n       [      nan,       nan],\n       [      nan,       nan],\n       [      nan,       nan],\n       [      nan,       nan],\n       [      nan,       nan],\n       [      nan,       nan],\n       [      nan,       nan],\n       [      nan,       nan],\n       [      nan,       nan],\n       [      nan,       nan],\n       [      nan,       nan],\n       [      nan,       nan],\n       [      nan,       nan],\n       [      nan,       nan],\n       [      nan,       nan],\n       [      nan,       nan],\n       [      nan,       nan],\n       [      nan,       nan],\n       [      nan,       nan],\n       [      nan,       nan],\n       [      nan,       nan],\n       [      nan,       nan],\n       [      nan,       nan],\n       [      nan,       nan],\n       [      nan,       nan],\n       [      nan,       nan],\n       [      nan,       nan],\n       [      nan,       nan],\n       [      nan,       nan],\n       [      nan,       nan],\n       [      nan,       nan],\n       [      nan,       nan],\n       [      nan,       nan],\n       [      nan,       nan],\n       [      nan,       nan],\n       [      nan,       nan],\n       [      nan,       nan],\n       [      nan,       nan],\n       [      nan,       nan],\n       [      nan,       nan],\n       [      nan,       nan],\n       [      nan,       nan],\n       [      nan,       nan],\n       [      nan,       nan],\n       [      nan,       nan],\n       [      nan,       nan],\n       [      nan,       nan],\n       [      nan,       nan],\n       [      nan,       nan],\n       [      nan,       nan],\n       [      nan,       nan],\n       [      nan,       nan],\n       [      nan,       nan],\n       [      nan,       nan],\n       [      nan,       nan],\n       [      nan,       nan],\n       [      nan,       nan],\n       [      nan,       nan],\n       [      nan,       nan],\n       [      nan,       nan],\n       [      nan,       nan],\n       [      nan,       nan],\n       [      nan,       nan],\n       [      nan,       nan],\n       [232.462  , 164.41673],\n       [      nan,       nan],\n       [      nan,       nan],\n       [      nan,       nan],\n       [      nan,       nan],\n       [      nan,       nan],\n       [      nan,       nan],\n       [      nan,       nan],\n       [      nan,       nan],\n       [      nan,       nan],\n       [      nan,       nan],\n       [      nan,       nan],\n       [      nan,       nan],\n       [      nan,       nan],\n       [      nan,       nan],\n       [      nan,       nan],\n       [      nan,       nan],\n       [      nan,       nan],\n       [      nan,       nan],\n       [      nan,       nan],\n       [      nan,       nan],\n       [      nan,       nan],\n       [      nan,       nan],\n       [      nan,       nan],\n       [      nan,       nan],\n       [      nan,       nan],\n       [      nan,       nan],\n       [      nan,       nan],\n       [      nan,       nan],\n       [      nan,       nan],\n       [      nan,       nan],\n       [      nan,       nan],\n       [      nan,       nan],\n       [      nan,       nan],\n       [      nan,       nan],\n       [      nan,       nan],\n       [      nan,       nan],\n       [      nan,       nan],\n       [      nan,       nan],\n       [      nan,       nan],\n       [      nan,       nan],\n       [      nan,       nan],\n       [      nan,       nan],\n       [      nan,       nan],\n       [      nan,       nan],\n       [      nan,       nan],\n       [      nan,       nan],\n       [      nan,       nan],\n       [      nan,       nan],\n       [      nan,       nan],\n       [      nan,       nan],\n       [      nan,       nan],\n       [      nan,       nan],\n       [      nan,       nan],\n       [      nan,       nan],\n       [      nan,       nan],\n       [      nan,       nan],\n       [      nan,       nan],\n       [      nan,       nan],\n       [      nan,       nan],\n       [      nan,       nan],\n       [      nan,       nan],\n       [      nan,       nan],\n       [      nan,       nan],\n       [      nan,       nan],\n       [      nan,       nan],\n       [      nan,       nan],\n       [      nan,       nan],\n       [      nan,       nan],\n       [      nan,       nan],\n       [      nan,       nan],\n       [      nan,       nan],\n       [      nan,       nan],\n       [      nan,       nan],\n       [      nan,       nan],\n       [      nan,       nan],\n       [      nan,       nan],\n       [      nan,       nan],\n       [      nan,       nan],\n       [      nan,       nan],\n       [      nan,       nan],\n       [      nan,       nan],\n       [      nan,       nan],\n       [      nan,       nan],\n       [      nan,       nan],\n       [      nan,       nan],\n       [      nan,       nan],\n       [      nan,       nan],\n       [      nan,       nan],\n       [      nan,       nan],\n       [      nan,       nan],\n       [      nan,       nan],\n       [      nan,       nan],\n       [      nan,       nan],\n       [      nan,       nan],\n       [      nan,       nan],\n       [      nan,       nan],\n       [      nan,       nan],\n       [      nan,       nan],\n       [      nan,       nan],\n       [      nan,       nan],\n       [      nan,       nan],\n       [      nan,       nan],\n       [      nan,       nan],\n       [      nan,       nan],\n       [      nan,       nan],\n       [      nan,       nan],\n       [233.94418, 171.41417],\n       [      nan,       nan],\n       [      nan,       nan],\n       [      nan,       nan],\n       [      nan,       nan],\n       [      nan,       nan],\n       [      nan,       nan],\n       [      nan,       nan],\n       [      nan,       nan],\n       [      nan,       nan],\n       [      nan,       nan],\n       [      nan,       nan],\n       [      nan,       nan],\n       [      nan,       nan],\n       [      nan,       nan],\n       [      nan,       nan],\n       [      nan,       nan],\n       [      nan,       nan],\n       [      nan,       nan],\n       [      nan,       nan],\n       [      nan,       nan],\n       [      nan,       nan]], dtype=float32)"
     },
     "execution_count": 8,
     "metadata": {},
     "output_type": "execute_result"
    }
   ],
   "source": []
  },
  {
   "cell_type": "code",
   "execution_count": 6,
   "metadata": {},
   "outputs": [
    {
     "data": {
      "text/plain": "array([[230.03738, 153.49635],\n       [      nan,       nan],\n       [      nan,       nan],\n       [      nan,       nan],\n       [      nan,       nan],\n       [      nan,       nan],\n       [      nan,       nan],\n       [      nan,       nan],\n       [      nan,       nan],\n       [      nan,       nan],\n       [      nan,       nan],\n       [      nan,       nan],\n       [      nan,       nan],\n       [      nan,       nan],\n       [      nan,       nan],\n       [      nan,       nan],\n       [      nan,       nan],\n       [      nan,       nan],\n       [      nan,       nan],\n       [      nan,       nan],\n       [      nan,       nan],\n       [      nan,       nan],\n       [      nan,       nan],\n       [      nan,       nan],\n       [      nan,       nan],\n       [      nan,       nan],\n       [      nan,       nan],\n       [      nan,       nan],\n       [      nan,       nan],\n       [      nan,       nan],\n       [      nan,       nan],\n       [      nan,       nan],\n       [      nan,       nan],\n       [      nan,       nan],\n       [      nan,       nan],\n       [      nan,       nan],\n       [      nan,       nan],\n       [      nan,       nan],\n       [      nan,       nan],\n       [      nan,       nan],\n       [      nan,       nan],\n       [      nan,       nan],\n       [      nan,       nan],\n       [      nan,       nan],\n       [      nan,       nan],\n       [      nan,       nan],\n       [      nan,       nan],\n       [      nan,       nan],\n       [      nan,       nan],\n       [      nan,       nan],\n       [      nan,       nan],\n       [      nan,       nan],\n       [      nan,       nan],\n       [      nan,       nan],\n       [      nan,       nan],\n       [      nan,       nan],\n       [      nan,       nan],\n       [      nan,       nan],\n       [      nan,       nan],\n       [      nan,       nan],\n       [      nan,       nan],\n       [      nan,       nan],\n       [      nan,       nan],\n       [      nan,       nan],\n       [      nan,       nan],\n       [      nan,       nan],\n       [      nan,       nan],\n       [      nan,       nan],\n       [      nan,       nan],\n       [      nan,       nan],\n       [      nan,       nan],\n       [      nan,       nan],\n       [      nan,       nan],\n       [      nan,       nan],\n       [      nan,       nan],\n       [      nan,       nan],\n       [      nan,       nan],\n       [      nan,       nan],\n       [      nan,       nan],\n       [      nan,       nan],\n       [      nan,       nan],\n       [      nan,       nan],\n       [      nan,       nan],\n       [      nan,       nan],\n       [      nan,       nan],\n       [      nan,       nan],\n       [      nan,       nan],\n       [      nan,       nan],\n       [      nan,       nan],\n       [      nan,       nan],\n       [      nan,       nan],\n       [      nan,       nan],\n       [      nan,       nan],\n       [      nan,       nan],\n       [      nan,       nan],\n       [      nan,       nan],\n       [      nan,       nan],\n       [      nan,       nan],\n       [      nan,       nan],\n       [      nan,       nan],\n       [      nan,       nan],\n       [231.4029 , 158.41515],\n       [      nan,       nan],\n       [      nan,       nan],\n       [      nan,       nan],\n       [      nan,       nan],\n       [      nan,       nan],\n       [      nan,       nan],\n       [      nan,       nan],\n       [      nan,       nan],\n       [      nan,       nan],\n       [      nan,       nan],\n       [      nan,       nan],\n       [      nan,       nan],\n       [      nan,       nan],\n       [      nan,       nan],\n       [      nan,       nan],\n       [      nan,       nan],\n       [      nan,       nan],\n       [      nan,       nan],\n       [      nan,       nan],\n       [      nan,       nan],\n       [      nan,       nan],\n       [      nan,       nan],\n       [      nan,       nan],\n       [      nan,       nan],\n       [      nan,       nan],\n       [      nan,       nan],\n       [      nan,       nan],\n       [      nan,       nan],\n       [      nan,       nan],\n       [      nan,       nan],\n       [      nan,       nan],\n       [      nan,       nan],\n       [      nan,       nan],\n       [      nan,       nan],\n       [      nan,       nan],\n       [      nan,       nan],\n       [      nan,       nan],\n       [      nan,       nan],\n       [      nan,       nan],\n       [      nan,       nan],\n       [      nan,       nan],\n       [      nan,       nan],\n       [      nan,       nan],\n       [      nan,       nan],\n       [      nan,       nan],\n       [      nan,       nan],\n       [      nan,       nan],\n       [      nan,       nan],\n       [      nan,       nan],\n       [      nan,       nan],\n       [      nan,       nan],\n       [      nan,       nan],\n       [      nan,       nan],\n       [      nan,       nan],\n       [      nan,       nan],\n       [      nan,       nan],\n       [      nan,       nan],\n       [      nan,       nan],\n       [      nan,       nan],\n       [      nan,       nan],\n       [      nan,       nan],\n       [      nan,       nan],\n       [      nan,       nan],\n       [      nan,       nan],\n       [      nan,       nan],\n       [      nan,       nan],\n       [      nan,       nan],\n       [      nan,       nan],\n       [      nan,       nan],\n       [      nan,       nan],\n       [      nan,       nan],\n       [      nan,       nan],\n       [      nan,       nan],\n       [      nan,       nan],\n       [      nan,       nan],\n       [      nan,       nan],\n       [      nan,       nan],\n       [      nan,       nan],\n       [      nan,       nan],\n       [      nan,       nan],\n       [      nan,       nan],\n       [      nan,       nan],\n       [      nan,       nan],\n       [      nan,       nan],\n       [      nan,       nan],\n       [      nan,       nan],\n       [      nan,       nan],\n       [      nan,       nan],\n       [      nan,       nan],\n       [      nan,       nan],\n       [      nan,       nan],\n       [      nan,       nan],\n       [      nan,       nan],\n       [      nan,       nan],\n       [      nan,       nan],\n       [      nan,       nan],\n       [      nan,       nan],\n       [      nan,       nan],\n       [      nan,       nan],\n       [      nan,       nan],\n       [      nan,       nan],\n       [      nan,       nan],\n       [      nan,       nan],\n       [232.462  , 164.41673],\n       [      nan,       nan],\n       [      nan,       nan],\n       [      nan,       nan],\n       [      nan,       nan],\n       [      nan,       nan],\n       [      nan,       nan],\n       [      nan,       nan],\n       [      nan,       nan],\n       [      nan,       nan],\n       [      nan,       nan],\n       [      nan,       nan],\n       [      nan,       nan],\n       [      nan,       nan],\n       [      nan,       nan],\n       [      nan,       nan],\n       [      nan,       nan],\n       [      nan,       nan],\n       [      nan,       nan],\n       [      nan,       nan],\n       [      nan,       nan],\n       [      nan,       nan],\n       [      nan,       nan],\n       [      nan,       nan],\n       [      nan,       nan],\n       [      nan,       nan],\n       [      nan,       nan],\n       [      nan,       nan],\n       [      nan,       nan],\n       [      nan,       nan],\n       [      nan,       nan],\n       [      nan,       nan],\n       [      nan,       nan],\n       [      nan,       nan],\n       [      nan,       nan],\n       [      nan,       nan],\n       [      nan,       nan],\n       [      nan,       nan],\n       [      nan,       nan],\n       [      nan,       nan],\n       [      nan,       nan],\n       [      nan,       nan],\n       [      nan,       nan],\n       [      nan,       nan],\n       [      nan,       nan],\n       [      nan,       nan],\n       [      nan,       nan],\n       [      nan,       nan],\n       [      nan,       nan],\n       [      nan,       nan],\n       [      nan,       nan],\n       [      nan,       nan],\n       [      nan,       nan],\n       [      nan,       nan],\n       [      nan,       nan],\n       [      nan,       nan],\n       [      nan,       nan],\n       [      nan,       nan],\n       [      nan,       nan],\n       [      nan,       nan],\n       [      nan,       nan],\n       [      nan,       nan],\n       [      nan,       nan],\n       [      nan,       nan],\n       [      nan,       nan],\n       [      nan,       nan],\n       [      nan,       nan],\n       [      nan,       nan],\n       [      nan,       nan],\n       [      nan,       nan],\n       [      nan,       nan],\n       [      nan,       nan],\n       [      nan,       nan],\n       [      nan,       nan],\n       [      nan,       nan],\n       [      nan,       nan],\n       [      nan,       nan],\n       [      nan,       nan],\n       [      nan,       nan],\n       [      nan,       nan],\n       [      nan,       nan],\n       [      nan,       nan],\n       [      nan,       nan],\n       [      nan,       nan],\n       [      nan,       nan],\n       [      nan,       nan],\n       [      nan,       nan],\n       [      nan,       nan],\n       [      nan,       nan],\n       [      nan,       nan],\n       [      nan,       nan],\n       [      nan,       nan],\n       [      nan,       nan],\n       [      nan,       nan],\n       [      nan,       nan],\n       [      nan,       nan],\n       [      nan,       nan],\n       [      nan,       nan],\n       [      nan,       nan],\n       [      nan,       nan],\n       [      nan,       nan],\n       [      nan,       nan],\n       [      nan,       nan],\n       [      nan,       nan],\n       [      nan,       nan],\n       [      nan,       nan],\n       [      nan,       nan],\n       [233.94418, 171.41417],\n       [      nan,       nan],\n       [      nan,       nan],\n       [      nan,       nan],\n       [      nan,       nan],\n       [      nan,       nan],\n       [      nan,       nan],\n       [      nan,       nan],\n       [      nan,       nan],\n       [      nan,       nan],\n       [      nan,       nan],\n       [      nan,       nan],\n       [      nan,       nan],\n       [      nan,       nan],\n       [      nan,       nan],\n       [      nan,       nan],\n       [      nan,       nan],\n       [      nan,       nan],\n       [      nan,       nan],\n       [      nan,       nan],\n       [      nan,       nan],\n       [      nan,       nan]], dtype=float32)"
     },
     "execution_count": 6,
     "metadata": {},
     "output_type": "execute_result"
    }
   ],
   "source": [
    "position"
   ]
  }
 ],
 "metadata": {
  "kernelspec": {
   "display_name": "Python 3.9.2  ('.venv': venv)",
   "name": "pythonjvsc74a57bd004d12789f47ca115d7ef1a39d997101d29a535d995c3316df46e69717c877462"
  },
  "language_info": {
   "codemirror_mode": {
    "name": "ipython",
    "version": 3
   },
   "file_extension": ".py",
   "mimetype": "text/x-python",
   "name": "python",
   "nbconvert_exporter": "python",
   "pygments_lexer": "ipython3",
   "version": "3.9.2"
  },
  "metadata": {
   "interpreter": {
    "hash": "04d12789f47ca115d7ef1a39d997101d29a535d995c3316df46e69717c877462"
   }
  },
  "orig_nbformat": 2
 },
 "nbformat": 4,
 "nbformat_minor": 2
}