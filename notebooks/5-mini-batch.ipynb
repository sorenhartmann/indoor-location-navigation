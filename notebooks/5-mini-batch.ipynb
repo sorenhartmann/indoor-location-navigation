{
 "metadata": {
  "language_info": {
   "codemirror_mode": {
    "name": "ipython",
    "version": 3
   },
   "file_extension": ".py",
   "mimetype": "text/x-python",
   "name": "python",
   "nbconvert_exporter": "python",
   "pygments_lexer": "ipython3",
   "version": "3.9.2"
  },
  "orig_nbformat": 2,
  "kernelspec": {
   "name": "python392jvsc74a57bd004d12789f47ca115d7ef1a39d997101d29a535d995c3316df46e69717c877462",
   "display_name": "Python 3.9.2 64-bit ('.venv': venv)"
  }
 },
 "nbformat": 4,
 "nbformat_minor": 2,
 "cells": [
  {
   "cell_type": "code",
   "execution_count": 177,
   "metadata": {},
   "outputs": [
    {
     "output_type": "stream",
     "name": "stdout",
     "text": [
      "The autoreload extension is already loaded. To reload it, use:\n  %reload_ext autoreload\n"
     ]
    }
   ],
   "source": [
    "%load_ext autoreload\n",
    "%autoreload 2\n",
    "\n",
    "from pyro import sample, plate\n",
    "\n",
    "from scipy.linalg import null_space, lstsq\n",
    "\n",
    "from src.data.datasets import SiteDataset\n",
    "import torch\n",
    "import seaborn as sns\n",
    "import pyro\n",
    "from src.data.datasets import SiteDataset\n",
    "from src.models.initial_model import InitialModel, TraceGuide\n",
    "from src.models.batched_model import BatchedModel\n",
    "from pyro import distributions as dist\n",
    "\n",
    "from torch.nn.utils.rnn import pad_sequence\n",
    "\n",
    "site_data = SiteDataset(\"5a0546857ecc773753327266\")\n",
    "floor = site_data.floors[0]\n",
    "height, width = floor.info[\"map_info\"][\"height\"], floor.info[\"map_info\"][\"width\"]\n",
    "floor_uniform = dist.Uniform(\n",
    "    low=torch.tensor([0.0, 0.0]), high=torch.tensor([height, width])\n",
    ").to_event(1)"
   ]
  },
  {
   "source": [
    "# Model Definition"
   ],
   "cell_type": "markdown",
   "metadata": {}
  },
  {
   "cell_type": "code",
   "execution_count": 178,
   "metadata": {},
   "outputs": [
    {
     "output_type": "stream",
     "name": "stderr",
     "text": [
      "/Users/soren/Documents/DTU/Semester10/42186/indoor-location-navigation.nosync/.venv/lib/python3.9/site-packages/pyro/primitives.py:404: UserWarning: trace_guides.0._forward_x.0.weight was not registered in the param store because requires_grad=False. You can silence this warning by calling my_module.train(False)\n  warnings.warn(f\"{param_name} was not registered in the param store \"\n/Users/soren/Documents/DTU/Semester10/42186/indoor-location-navigation.nosync/.venv/lib/python3.9/site-packages/pyro/primitives.py:404: UserWarning: trace_guides.0._forward_y.0.weight was not registered in the param store because requires_grad=False. You can silence this warning by calling my_module.train(False)\n  warnings.warn(f\"{param_name} was not registered in the param store \"\n/Users/soren/Documents/DTU/Semester10/42186/indoor-location-navigation.nosync/.venv/lib/python3.9/site-packages/pyro/primitives.py:404: UserWarning: trace_guides.1._forward_x.0.weight was not registered in the param store because requires_grad=False. You can silence this warning by calling my_module.train(False)\n  warnings.warn(f\"{param_name} was not registered in the param store \"\n/Users/soren/Documents/DTU/Semester10/42186/indoor-location-navigation.nosync/.venv/lib/python3.9/site-packages/pyro/primitives.py:404: UserWarning: trace_guides.1._forward_y.0.weight was not registered in the param store because requires_grad=False. You can silence this warning by calling my_module.train(False)\n  warnings.warn(f\"{param_name} was not registered in the param store \"\n/Users/soren/Documents/DTU/Semester10/42186/indoor-location-navigation.nosync/.venv/lib/python3.9/site-packages/pyro/primitives.py:404: UserWarning: trace_guides.2._forward_x.0.weight was not registered in the param store because requires_grad=False. You can silence this warning by calling my_module.train(False)\n  warnings.warn(f\"{param_name} was not registered in the param store \"\n/Users/soren/Documents/DTU/Semester10/42186/indoor-location-navigation.nosync/.venv/lib/python3.9/site-packages/pyro/primitives.py:404: UserWarning: trace_guides.2._forward_y.0.weight was not registered in the param store because requires_grad=False. You can silence this warning by calling my_module.train(False)\n  warnings.warn(f\"{param_name} was not registered in the param store \"\n/Users/soren/Documents/DTU/Semester10/42186/indoor-location-navigation.nosync/.venv/lib/python3.9/site-packages/pyro/primitives.py:404: UserWarning: trace_guides.3._forward_x.0.weight was not registered in the param store because requires_grad=False. You can silence this warning by calling my_module.train(False)\n  warnings.warn(f\"{param_name} was not registered in the param store \"\n/Users/soren/Documents/DTU/Semester10/42186/indoor-location-navigation.nosync/.venv/lib/python3.9/site-packages/pyro/primitives.py:404: UserWarning: trace_guides.3._forward_y.0.weight was not registered in the param store because requires_grad=False. You can silence this warning by calling my_module.train(False)\n  warnings.warn(f\"{param_name} was not registered in the param store \"\n/Users/soren/Documents/DTU/Semester10/42186/indoor-location-navigation.nosync/.venv/lib/python3.9/site-packages/pyro/primitives.py:404: UserWarning: trace_guides.4._forward_x.0.weight was not registered in the param store because requires_grad=False. You can silence this warning by calling my_module.train(False)\n  warnings.warn(f\"{param_name} was not registered in the param store \"\n/Users/soren/Documents/DTU/Semester10/42186/indoor-location-navigation.nosync/.venv/lib/python3.9/site-packages/pyro/primitives.py:404: UserWarning: trace_guides.4._forward_y.0.weight was not registered in the param store because requires_grad=False. You can silence this warning by calling my_module.train(False)\n  warnings.warn(f\"{param_name} was not registered in the param store \"\n/Users/soren/Documents/DTU/Semester10/42186/indoor-location-navigation.nosync/.venv/lib/python3.9/site-packages/pyro/primitives.py:404: UserWarning: trace_guides.5._forward_x.0.weight was not registered in the param store because requires_grad=False. You can silence this warning by calling my_module.train(False)\n  warnings.warn(f\"{param_name} was not registered in the param store \"\n/Users/soren/Documents/DTU/Semester10/42186/indoor-location-navigation.nosync/.venv/lib/python3.9/site-packages/pyro/primitives.py:404: UserWarning: trace_guides.5._forward_y.0.weight was not registered in the param store because requires_grad=False. You can silence this warning by calling my_module.train(False)\n  warnings.warn(f\"{param_name} was not registered in the param store \"\n/Users/soren/Documents/DTU/Semester10/42186/indoor-location-navigation.nosync/.venv/lib/python3.9/site-packages/pyro/primitives.py:404: UserWarning: trace_guides.6._forward_x.0.weight was not registered in the param store because requires_grad=False. You can silence this warning by calling my_module.train(False)\n  warnings.warn(f\"{param_name} was not registered in the param store \"\n/Users/soren/Documents/DTU/Semester10/42186/indoor-location-navigation.nosync/.venv/lib/python3.9/site-packages/pyro/primitives.py:404: UserWarning: trace_guides.6._forward_y.0.weight was not registered in the param store because requires_grad=False. You can silence this warning by calling my_module.train(False)\n  warnings.warn(f\"{param_name} was not registered in the param store \"\n/Users/soren/Documents/DTU/Semester10/42186/indoor-location-navigation.nosync/.venv/lib/python3.9/site-packages/pyro/primitives.py:404: UserWarning: trace_guides.7._forward_x.0.weight was not registered in the param store because requires_grad=False. You can silence this warning by calling my_module.train(False)\n  warnings.warn(f\"{param_name} was not registered in the param store \"\n/Users/soren/Documents/DTU/Semester10/42186/indoor-location-navigation.nosync/.venv/lib/python3.9/site-packages/pyro/primitives.py:404: UserWarning: trace_guides.7._forward_y.0.weight was not registered in the param store because requires_grad=False. You can silence this warning by calling my_module.train(False)\n  warnings.warn(f\"{param_name} was not registered in the param store \"\n/Users/soren/Documents/DTU/Semester10/42186/indoor-location-navigation.nosync/.venv/lib/python3.9/site-packages/pyro/primitives.py:404: UserWarning: trace_guides.8._forward_x.0.weight was not registered in the param store because requires_grad=False. You can silence this warning by calling my_module.train(False)\n  warnings.warn(f\"{param_name} was not registered in the param store \"\n/Users/soren/Documents/DTU/Semester10/42186/indoor-location-navigation.nosync/.venv/lib/python3.9/site-packages/pyro/primitives.py:404: UserWarning: trace_guides.8._forward_y.0.weight was not registered in the param store because requires_grad=False. You can silence this warning by calling my_module.train(False)\n  warnings.warn(f\"{param_name} was not registered in the param store \"\n/Users/soren/Documents/DTU/Semester10/42186/indoor-location-navigation.nosync/.venv/lib/python3.9/site-packages/pyro/primitives.py:404: UserWarning: trace_guides.9._forward_x.0.weight was not registered in the param store because requires_grad=False. You can silence this warning by calling my_module.train(False)\n  warnings.warn(f\"{param_name} was not registered in the param store \"\n/Users/soren/Documents/DTU/Semester10/42186/indoor-location-navigation.nosync/.venv/lib/python3.9/site-packages/pyro/primitives.py:404: UserWarning: trace_guides.9._forward_y.0.weight was not registered in the param store because requires_grad=False. You can silence this warning by calling my_module.train(False)\n  warnings.warn(f\"{param_name} was not registered in the param store \"\n/Users/soren/Documents/DTU/Semester10/42186/indoor-location-navigation.nosync/.venv/lib/python3.9/site-packages/pyro/primitives.py:404: UserWarning: trace_guides.10._forward_x.0.weight was not registered in the param store because requires_grad=False. You can silence this warning by calling my_module.train(False)\n  warnings.warn(f\"{param_name} was not registered in the param store \"\n/Users/soren/Documents/DTU/Semester10/42186/indoor-location-navigation.nosync/.venv/lib/python3.9/site-packages/pyro/primitives.py:404: UserWarning: trace_guides.10._forward_y.0.weight was not registered in the param store because requires_grad=False. You can silence this warning by calling my_module.train(False)\n  warnings.warn(f\"{param_name} was not registered in the param store \"\n/Users/soren/Documents/DTU/Semester10/42186/indoor-location-navigation.nosync/.venv/lib/python3.9/site-packages/pyro/primitives.py:404: UserWarning: trace_guides.11._forward_x.0.weight was not registered in the param store because requires_grad=False. You can silence this warning by calling my_module.train(False)\n  warnings.warn(f\"{param_name} was not registered in the param store \"\n/Users/soren/Documents/DTU/Semester10/42186/indoor-location-navigation.nosync/.venv/lib/python3.9/site-packages/pyro/primitives.py:404: UserWarning: trace_guides.11._forward_y.0.weight was not registered in the param store because requires_grad=False. You can silence this warning by calling my_module.train(False)\n  warnings.warn(f\"{param_name} was not registered in the param store \"\n"
     ]
    }
   ],
   "source": [
    "batch_size = 12\n",
    "traces = [trace for trace in floor.traces[:batch_size]]\n",
    "\n",
    "mini_batch_index = torch.arange(batch_size)\n",
    "mini_batch_length = torch.tensor([len(t.matrices[\"time\"]) for t in traces])\n",
    "\n",
    "mini_batch_time = mini_batch_time = pad_sequence(\n",
    "    [torch.tensor(t.matrices[\"time\"], dtype=torch.float32) for t in traces],\n",
    "    batch_first=True,\n",
    ")\n",
    "mini_batch_position = pad_sequence(\n",
    "    [torch.tensor(t.matrices[\"position\"], dtype=torch.float32) for t in traces],\n",
    "    batch_first=True,\n",
    ")\n",
    "mini_batch_position_mask = ~mini_batch_position.isnan().any(dim=-1)\n",
    "for i, length in enumerate(mini_batch_length):\n",
    "    mini_batch_position_mask[i, length:] = False\n",
    "mini_batch_position[~mini_batch_position_mask] = 0\n",
    "\n",
    "bssids = set()\n",
    "for t in traces:\n",
    "    bssids.update(set(t.data[\"TYPE_WIFI\"][\"bssid\"].unique()))\n",
    "\n",
    "mini_batch_wifi_unpadded = []\n",
    "for t in traces:\n",
    "    wifi = t._get_matrices(bssids=bssids)[\"wifi\"]\n",
    "    mini_batch_wifi_unpadded.append(torch.tensor(wifi, dtype=torch.float32))\n",
    "\n",
    "mini_batch_wifi = pad_sequence(mini_batch_wifi_unpadded, batch_first=True)\n",
    "mini_batch_wifi_mask = ~mini_batch_wifi.isnan()\n",
    "for i, length in enumerate(mini_batch_length):\n",
    "    mini_batch_wifi_mask[i, length:, :] = False\n",
    "mini_batch_wifi[~mini_batch_wifi_mask] = 0\n",
    "\n",
    "_, T, K = mini_batch_wifi.shape\n",
    "\n",
    "model = BatchedModel(floor, K)\n",
    "\n",
    "model.model(\n",
    "    mini_batch_index=mini_batch_index,\n",
    "    mini_batch_length=mini_batch_length,\n",
    "    mini_batch_time=mini_batch_time,\n",
    "    mini_batch_position=mini_batch_position,\n",
    "    mini_batch_position_mask=mini_batch_position_mask,\n",
    "    mini_batch_wifi=mini_batch_wifi,\n",
    "    mini_batch_wifi_mask=mini_batch_wifi_mask,\n",
    ")\n",
    "\n",
    "model.guide(\n",
    "    mini_batch_index=mini_batch_index,\n",
    "    mini_batch_length=mini_batch_length,\n",
    "    mini_batch_time=mini_batch_time,\n",
    "    mini_batch_position=mini_batch_position,\n",
    "    mini_batch_position_mask=mini_batch_position_mask,\n",
    "    mini_batch_wifi=mini_batch_wifi,\n",
    "    mini_batch_wifi_mask=mini_batch_wifi_mask,\n",
    ")\n"
   ]
  },
  {
   "cell_type": "code",
   "execution_count": 179,
   "metadata": {},
   "outputs": [
    {
     "output_type": "error",
     "ename": "TypeError",
     "evalue": "guide() missing 7 required positional arguments: 'mini_batch_index', 'mini_batch_length', 'mini_batch_time', 'mini_batch_position', 'mini_batch_position_mask', 'mini_batch_wifi', and 'mini_batch_wifi_mask'",
     "traceback": [
      "\u001b[0;31m---------------------------------------------------------------------------\u001b[0m",
      "\u001b[0;31mTypeError\u001b[0m                                 Traceback (most recent call last)",
      "\u001b[0;32m<ipython-input-179-44dd158807a5>\u001b[0m in \u001b[0;36m<module>\u001b[0;34m\u001b[0m\n\u001b[1;32m     18\u001b[0m \u001b[0;31m# Do gradient steps\u001b[0m\u001b[0;34m\u001b[0m\u001b[0;34m\u001b[0m\u001b[0;34m\u001b[0m\u001b[0m\n\u001b[1;32m     19\u001b[0m \u001b[0;32mfor\u001b[0m \u001b[0mstep\u001b[0m \u001b[0;32min\u001b[0m \u001b[0mrange\u001b[0m\u001b[0;34m(\u001b[0m\u001b[0mn_steps\u001b[0m\u001b[0;34m)\u001b[0m\u001b[0;34m:\u001b[0m\u001b[0;34m\u001b[0m\u001b[0;34m\u001b[0m\u001b[0m\n\u001b[0;32m---> 20\u001b[0;31m     \u001b[0melbo\u001b[0m \u001b[0;34m=\u001b[0m \u001b[0msvi\u001b[0m\u001b[0;34m.\u001b[0m\u001b[0mstep\u001b[0m\u001b[0;34m(\u001b[0m\u001b[0;34m)\u001b[0m\u001b[0;34m\u001b[0m\u001b[0;34m\u001b[0m\u001b[0m\n\u001b[0m\u001b[1;32m     21\u001b[0m \u001b[0;34m\u001b[0m\u001b[0m\n\u001b[1;32m     22\u001b[0m     \u001b[0mprint\u001b[0m\u001b[0;34m(\u001b[0m\u001b[0;34m\"[%d] ELBO: %.1f\"\u001b[0m \u001b[0;34m%\u001b[0m \u001b[0;34m(\u001b[0m\u001b[0mstep\u001b[0m\u001b[0;34m,\u001b[0m \u001b[0melbo\u001b[0m\u001b[0;34m)\u001b[0m\u001b[0;34m)\u001b[0m\u001b[0;34m\u001b[0m\u001b[0;34m\u001b[0m\u001b[0m\n",
      "\u001b[0;32m~/Documents/DTU/Semester10/42186/indoor-location-navigation.nosync/.venv/lib/python3.9/site-packages/pyro/infer/svi.py\u001b[0m in \u001b[0;36mstep\u001b[0;34m(self, *args, **kwargs)\u001b[0m\n\u001b[1;32m    126\u001b[0m         \u001b[0;31m# get loss and compute gradients\u001b[0m\u001b[0;34m\u001b[0m\u001b[0;34m\u001b[0m\u001b[0;34m\u001b[0m\u001b[0m\n\u001b[1;32m    127\u001b[0m         \u001b[0;32mwith\u001b[0m \u001b[0mpoutine\u001b[0m\u001b[0;34m.\u001b[0m\u001b[0mtrace\u001b[0m\u001b[0;34m(\u001b[0m\u001b[0mparam_only\u001b[0m\u001b[0;34m=\u001b[0m\u001b[0;32mTrue\u001b[0m\u001b[0;34m)\u001b[0m \u001b[0;32mas\u001b[0m \u001b[0mparam_capture\u001b[0m\u001b[0;34m:\u001b[0m\u001b[0;34m\u001b[0m\u001b[0;34m\u001b[0m\u001b[0m\n\u001b[0;32m--> 128\u001b[0;31m             \u001b[0mloss\u001b[0m \u001b[0;34m=\u001b[0m \u001b[0mself\u001b[0m\u001b[0;34m.\u001b[0m\u001b[0mloss_and_grads\u001b[0m\u001b[0;34m(\u001b[0m\u001b[0mself\u001b[0m\u001b[0;34m.\u001b[0m\u001b[0mmodel\u001b[0m\u001b[0;34m,\u001b[0m \u001b[0mself\u001b[0m\u001b[0;34m.\u001b[0m\u001b[0mguide\u001b[0m\u001b[0;34m,\u001b[0m \u001b[0;34m*\u001b[0m\u001b[0margs\u001b[0m\u001b[0;34m,\u001b[0m \u001b[0;34m**\u001b[0m\u001b[0mkwargs\u001b[0m\u001b[0;34m)\u001b[0m\u001b[0;34m\u001b[0m\u001b[0;34m\u001b[0m\u001b[0m\n\u001b[0m\u001b[1;32m    129\u001b[0m \u001b[0;34m\u001b[0m\u001b[0m\n\u001b[1;32m    130\u001b[0m         params = set(site[\"value\"].unconstrained()\n",
      "\u001b[0;32m~/Documents/DTU/Semester10/42186/indoor-location-navigation.nosync/.venv/lib/python3.9/site-packages/pyro/infer/trace_elbo.py\u001b[0m in \u001b[0;36mloss_and_grads\u001b[0;34m(self, model, guide, *args, **kwargs)\u001b[0m\n\u001b[1;32m    129\u001b[0m         \u001b[0mloss\u001b[0m \u001b[0;34m=\u001b[0m \u001b[0;36m0.0\u001b[0m\u001b[0;34m\u001b[0m\u001b[0;34m\u001b[0m\u001b[0m\n\u001b[1;32m    130\u001b[0m         \u001b[0;31m# grab a trace from the generator\u001b[0m\u001b[0;34m\u001b[0m\u001b[0;34m\u001b[0m\u001b[0;34m\u001b[0m\u001b[0m\n\u001b[0;32m--> 131\u001b[0;31m         \u001b[0;32mfor\u001b[0m \u001b[0mmodel_trace\u001b[0m\u001b[0;34m,\u001b[0m \u001b[0mguide_trace\u001b[0m \u001b[0;32min\u001b[0m \u001b[0mself\u001b[0m\u001b[0;34m.\u001b[0m\u001b[0m_get_traces\u001b[0m\u001b[0;34m(\u001b[0m\u001b[0mmodel\u001b[0m\u001b[0;34m,\u001b[0m \u001b[0mguide\u001b[0m\u001b[0;34m,\u001b[0m \u001b[0margs\u001b[0m\u001b[0;34m,\u001b[0m \u001b[0mkwargs\u001b[0m\u001b[0;34m)\u001b[0m\u001b[0;34m:\u001b[0m\u001b[0;34m\u001b[0m\u001b[0;34m\u001b[0m\u001b[0m\n\u001b[0m\u001b[1;32m    132\u001b[0m             \u001b[0mloss_particle\u001b[0m\u001b[0;34m,\u001b[0m \u001b[0msurrogate_loss_particle\u001b[0m \u001b[0;34m=\u001b[0m \u001b[0mself\u001b[0m\u001b[0;34m.\u001b[0m\u001b[0m_differentiable_loss_particle\u001b[0m\u001b[0;34m(\u001b[0m\u001b[0mmodel_trace\u001b[0m\u001b[0;34m,\u001b[0m \u001b[0mguide_trace\u001b[0m\u001b[0;34m)\u001b[0m\u001b[0;34m\u001b[0m\u001b[0;34m\u001b[0m\u001b[0m\n\u001b[1;32m    133\u001b[0m             \u001b[0mloss\u001b[0m \u001b[0;34m+=\u001b[0m \u001b[0mloss_particle\u001b[0m \u001b[0;34m/\u001b[0m \u001b[0mself\u001b[0m\u001b[0;34m.\u001b[0m\u001b[0mnum_particles\u001b[0m\u001b[0;34m\u001b[0m\u001b[0;34m\u001b[0m\u001b[0m\n",
      "\u001b[0;32m~/Documents/DTU/Semester10/42186/indoor-location-navigation.nosync/.venv/lib/python3.9/site-packages/pyro/infer/elbo.py\u001b[0m in \u001b[0;36m_get_traces\u001b[0;34m(self, model, guide, args, kwargs)\u001b[0m\n\u001b[1;32m    168\u001b[0m         \u001b[0;32melse\u001b[0m\u001b[0;34m:\u001b[0m\u001b[0;34m\u001b[0m\u001b[0;34m\u001b[0m\u001b[0m\n\u001b[1;32m    169\u001b[0m             \u001b[0;32mfor\u001b[0m \u001b[0mi\u001b[0m \u001b[0;32min\u001b[0m \u001b[0mrange\u001b[0m\u001b[0;34m(\u001b[0m\u001b[0mself\u001b[0m\u001b[0;34m.\u001b[0m\u001b[0mnum_particles\u001b[0m\u001b[0;34m)\u001b[0m\u001b[0;34m:\u001b[0m\u001b[0;34m\u001b[0m\u001b[0;34m\u001b[0m\u001b[0m\n\u001b[0;32m--> 170\u001b[0;31m                 \u001b[0;32myield\u001b[0m \u001b[0mself\u001b[0m\u001b[0;34m.\u001b[0m\u001b[0m_get_trace\u001b[0m\u001b[0;34m(\u001b[0m\u001b[0mmodel\u001b[0m\u001b[0;34m,\u001b[0m \u001b[0mguide\u001b[0m\u001b[0;34m,\u001b[0m \u001b[0margs\u001b[0m\u001b[0;34m,\u001b[0m \u001b[0mkwargs\u001b[0m\u001b[0;34m)\u001b[0m\u001b[0;34m\u001b[0m\u001b[0;34m\u001b[0m\u001b[0m\n\u001b[0m",
      "\u001b[0;32m~/Documents/DTU/Semester10/42186/indoor-location-navigation.nosync/.venv/lib/python3.9/site-packages/pyro/infer/trace_elbo.py\u001b[0m in \u001b[0;36m_get_trace\u001b[0;34m(self, model, guide, args, kwargs)\u001b[0m\n\u001b[1;32m     55\u001b[0m         \u001b[0magainst\u001b[0m \u001b[0mit\u001b[0m\u001b[0;34m.\u001b[0m\u001b[0;34m\u001b[0m\u001b[0;34m\u001b[0m\u001b[0m\n\u001b[1;32m     56\u001b[0m         \"\"\"\n\u001b[0;32m---> 57\u001b[0;31m         model_trace, guide_trace = get_importance_trace(\n\u001b[0m\u001b[1;32m     58\u001b[0m             \"flat\", self.max_plate_nesting, model, guide, args, kwargs)\n\u001b[1;32m     59\u001b[0m         \u001b[0;32mif\u001b[0m \u001b[0mis_validation_enabled\u001b[0m\u001b[0;34m(\u001b[0m\u001b[0;34m)\u001b[0m\u001b[0;34m:\u001b[0m\u001b[0;34m\u001b[0m\u001b[0;34m\u001b[0m\u001b[0m\n",
      "\u001b[0;32m~/Documents/DTU/Semester10/42186/indoor-location-navigation.nosync/.venv/lib/python3.9/site-packages/pyro/infer/enum.py\u001b[0m in \u001b[0;36mget_importance_trace\u001b[0;34m(graph_type, max_plate_nesting, model, guide, args, kwargs, detach)\u001b[0m\n\u001b[1;32m     42\u001b[0m     \u001b[0;32mand\u001b[0m \u001b[0mthe\u001b[0m \u001b[0mmodel\u001b[0m \u001b[0mthat\u001b[0m \u001b[0;32mis\u001b[0m \u001b[0mrun\u001b[0m \u001b[0magainst\u001b[0m \u001b[0mit\u001b[0m\u001b[0;34m.\u001b[0m\u001b[0;34m\u001b[0m\u001b[0;34m\u001b[0m\u001b[0m\n\u001b[1;32m     43\u001b[0m     \"\"\"\n\u001b[0;32m---> 44\u001b[0;31m     \u001b[0mguide_trace\u001b[0m \u001b[0;34m=\u001b[0m \u001b[0mpoutine\u001b[0m\u001b[0;34m.\u001b[0m\u001b[0mtrace\u001b[0m\u001b[0;34m(\u001b[0m\u001b[0mguide\u001b[0m\u001b[0;34m,\u001b[0m \u001b[0mgraph_type\u001b[0m\u001b[0;34m=\u001b[0m\u001b[0mgraph_type\u001b[0m\u001b[0;34m)\u001b[0m\u001b[0;34m.\u001b[0m\u001b[0mget_trace\u001b[0m\u001b[0;34m(\u001b[0m\u001b[0;34m*\u001b[0m\u001b[0margs\u001b[0m\u001b[0;34m,\u001b[0m \u001b[0;34m**\u001b[0m\u001b[0mkwargs\u001b[0m\u001b[0;34m)\u001b[0m\u001b[0;34m\u001b[0m\u001b[0;34m\u001b[0m\u001b[0m\n\u001b[0m\u001b[1;32m     45\u001b[0m     \u001b[0;32mif\u001b[0m \u001b[0mdetach\u001b[0m\u001b[0;34m:\u001b[0m\u001b[0;34m\u001b[0m\u001b[0;34m\u001b[0m\u001b[0m\n\u001b[1;32m     46\u001b[0m         \u001b[0mguide_trace\u001b[0m\u001b[0;34m.\u001b[0m\u001b[0mdetach_\u001b[0m\u001b[0;34m(\u001b[0m\u001b[0;34m)\u001b[0m\u001b[0;34m\u001b[0m\u001b[0;34m\u001b[0m\u001b[0m\n",
      "\u001b[0;32m~/Documents/DTU/Semester10/42186/indoor-location-navigation.nosync/.venv/lib/python3.9/site-packages/pyro/poutine/trace_messenger.py\u001b[0m in \u001b[0;36mget_trace\u001b[0;34m(self, *args, **kwargs)\u001b[0m\n\u001b[1;32m    185\u001b[0m         \u001b[0mCalls\u001b[0m \u001b[0mthis\u001b[0m \u001b[0mpoutine\u001b[0m \u001b[0;32mand\u001b[0m \u001b[0mreturns\u001b[0m \u001b[0mits\u001b[0m \u001b[0mtrace\u001b[0m \u001b[0minstead\u001b[0m \u001b[0mof\u001b[0m \u001b[0mthe\u001b[0m \u001b[0mfunction\u001b[0m\u001b[0;31m'\u001b[0m\u001b[0ms\u001b[0m \u001b[0;32mreturn\u001b[0m \u001b[0mvalue\u001b[0m\u001b[0;34m.\u001b[0m\u001b[0;34m\u001b[0m\u001b[0;34m\u001b[0m\u001b[0m\n\u001b[1;32m    186\u001b[0m         \"\"\"\n\u001b[0;32m--> 187\u001b[0;31m         \u001b[0mself\u001b[0m\u001b[0;34m(\u001b[0m\u001b[0;34m*\u001b[0m\u001b[0margs\u001b[0m\u001b[0;34m,\u001b[0m \u001b[0;34m**\u001b[0m\u001b[0mkwargs\u001b[0m\u001b[0;34m)\u001b[0m\u001b[0;34m\u001b[0m\u001b[0;34m\u001b[0m\u001b[0m\n\u001b[0m\u001b[1;32m    188\u001b[0m         \u001b[0;32mreturn\u001b[0m \u001b[0mself\u001b[0m\u001b[0;34m.\u001b[0m\u001b[0mmsngr\u001b[0m\u001b[0;34m.\u001b[0m\u001b[0mget_trace\u001b[0m\u001b[0;34m(\u001b[0m\u001b[0;34m)\u001b[0m\u001b[0;34m\u001b[0m\u001b[0;34m\u001b[0m\u001b[0m\n",
      "\u001b[0;32m~/Documents/DTU/Semester10/42186/indoor-location-navigation.nosync/.venv/lib/python3.9/site-packages/pyro/poutine/trace_messenger.py\u001b[0m in \u001b[0;36m__call__\u001b[0;34m(self, *args, **kwargs)\u001b[0m\n\u001b[1;32m    163\u001b[0m                                       args=args, kwargs=kwargs)\n\u001b[1;32m    164\u001b[0m             \u001b[0;32mtry\u001b[0m\u001b[0;34m:\u001b[0m\u001b[0;34m\u001b[0m\u001b[0;34m\u001b[0m\u001b[0m\n\u001b[0;32m--> 165\u001b[0;31m                 \u001b[0mret\u001b[0m \u001b[0;34m=\u001b[0m \u001b[0mself\u001b[0m\u001b[0;34m.\u001b[0m\u001b[0mfn\u001b[0m\u001b[0;34m(\u001b[0m\u001b[0;34m*\u001b[0m\u001b[0margs\u001b[0m\u001b[0;34m,\u001b[0m \u001b[0;34m**\u001b[0m\u001b[0mkwargs\u001b[0m\u001b[0;34m)\u001b[0m\u001b[0;34m\u001b[0m\u001b[0;34m\u001b[0m\u001b[0m\n\u001b[0m\u001b[1;32m    166\u001b[0m             \u001b[0;32mexcept\u001b[0m \u001b[0;34m(\u001b[0m\u001b[0mValueError\u001b[0m\u001b[0;34m,\u001b[0m \u001b[0mRuntimeError\u001b[0m\u001b[0;34m)\u001b[0m \u001b[0;32mas\u001b[0m \u001b[0me\u001b[0m\u001b[0;34m:\u001b[0m\u001b[0;34m\u001b[0m\u001b[0;34m\u001b[0m\u001b[0m\n\u001b[1;32m    167\u001b[0m                 \u001b[0mexc_type\u001b[0m\u001b[0;34m,\u001b[0m \u001b[0mexc_value\u001b[0m\u001b[0;34m,\u001b[0m \u001b[0mtraceback\u001b[0m \u001b[0;34m=\u001b[0m \u001b[0msys\u001b[0m\u001b[0;34m.\u001b[0m\u001b[0mexc_info\u001b[0m\u001b[0;34m(\u001b[0m\u001b[0;34m)\u001b[0m\u001b[0;34m\u001b[0m\u001b[0;34m\u001b[0m\u001b[0m\n",
      "\u001b[0;31mTypeError\u001b[0m: guide() missing 7 required positional arguments: 'mini_batch_index', 'mini_batch_length', 'mini_batch_time', 'mini_batch_position', 'mini_batch_position_mask', 'mini_batch_wifi', and 'mini_batch_wifi_mask'"
     ]
    }
   ],
   "source": [
    "from pyro.infer import MCMC, NUTS, HMC, SVI, Trace_ELBO\n",
    "from pyro.optim import Adam, ClippedAdam\n",
    "\n",
    "# Reset parameter values\n",
    "pyro.clear_param_store()\n",
    "\n",
    "# Define the number of optimization steps\n",
    "n_steps = 1000\n",
    "\n",
    "# Setup the optimizer\n",
    "adam_params = {\"lr\": 0.01}\n",
    "optimizer = Adam(adam_params)\n",
    "\n",
    "# # Setup the inference algorithm\n",
    "elbo = Trace_ELBO(num_particles=3)\n",
    "svi = SVI(model.model, model.guide, optimizer, loss=elbo)\n",
    "\n",
    "# Do gradient steps\n",
    "for step in range(n_steps):\n",
    "    elbo = svi.step(\n",
    "        mini_batch_index=mini_batch_index,\n",
    "        mini_batch_length=mini_batch_length,\n",
    "        mini_batch_time=mini_batch_time,\n",
    "        mini_batch_position=mini_batch_position,\n",
    "        mini_batch_position_mask=mini_batch_position_mask,\n",
    "        mini_batch_wifi=mini_batch_wifi,\n",
    "        mini_batch_wifi_mask=mini_batch_wifi_mask,\n",
    "    )\n",
    "\n",
    "    print(\"[%d] ELBO: %.1f\" % (step, elbo))"
   ]
  },
  {
   "cell_type": "code",
   "execution_count": null,
   "metadata": {},
   "outputs": [],
   "source": [
    "model.to(device=cuda)"
   ]
  }
 ]
}