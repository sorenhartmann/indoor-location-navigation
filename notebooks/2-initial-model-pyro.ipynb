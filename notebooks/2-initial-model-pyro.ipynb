{
 "cells": [
  {
   "cell_type": "code",
   "execution_count": 5,
   "metadata": {},
   "outputs": [
    {
     "name": "stderr",
     "output_type": "stream",
     "text": [
      "WARNING:absl:No GPU/TPU found, falling back to CPU. (Set TF_CPP_MIN_LOG_LEVEL=0 and rerun for more info.)\n"
     ]
    }
   ],
   "source": [
    "from src.data.datasets import SiteDataset\n",
    "import jax.numpy as jnp\n",
    "site_data = SiteDataset(\"5a0546857ecc773753327266\")\n",
    "\n",
    "floor = site_data.floors[0]\n",
    "trace = floor.traces[0]\n",
    "matrices = trace.matrices\n",
    "position = matrices[\"position\"]\n",
    "wifi = matrices[\"wifi\"]\n",
    "import pyro.distributions as dist\n",
    "from pyro import sample, plate\n",
    "import pyro\n",
    "import numpy as np\n",
    "import torch"
   ]
  },
  {
   "cell_type": "code",
   "execution_count": 4,
   "metadata": {},
   "outputs": [],
   "source": [
    "height, width = floor.info[\"map_info\"][\"height\"], floor.info[\"map_info\"][\"width\"]\n",
    "floor_uniform2 = dist.Independent(\n",
    "    dist.Uniform(low=torch.tensor([-0.5, -0.5]), high=torch.tensor([0.5, 0.5])), 1\n",
    ")\n"
   ]
  },
  {
   "cell_type": "code",
   "execution_count": 5,
   "metadata": {},
   "outputs": [
    {
     "ename": "NameError",
     "evalue": "name 'pyro' is not defined",
     "output_type": "error",
     "traceback": [
      "\u001b[0;31m---------------------------------------------------------------------------\u001b[0m",
      "\u001b[0;31mNameError\u001b[0m                                 Traceback (most recent call last)",
      "\u001b[0;32m<ipython-input-5-0f4faa09da1b>\u001b[0m in \u001b[0;36m<module>\u001b[0;34m\u001b[0m\n\u001b[1;32m     29\u001b[0m \u001b[0;34m\u001b[0m\u001b[0m\n\u001b[1;32m     30\u001b[0m \u001b[0;32mwith\u001b[0m \u001b[0mhandlers\u001b[0m\u001b[0;34m.\u001b[0m\u001b[0mseed\u001b[0m\u001b[0;34m(\u001b[0m\u001b[0mrng_seed\u001b[0m\u001b[0;34m=\u001b[0m\u001b[0;36m0\u001b[0m\u001b[0;34m)\u001b[0m\u001b[0;34m:\u001b[0m\u001b[0;34m\u001b[0m\u001b[0;34m\u001b[0m\u001b[0m\n\u001b[0;32m---> 31\u001b[0;31m     \u001b[0mprint\u001b[0m\u001b[0;34m(\u001b[0m\u001b[0minitial_model\u001b[0m\u001b[0;34m(\u001b[0m\u001b[0mwifi\u001b[0m\u001b[0;34m,\u001b[0m \u001b[0mposition\u001b[0m\u001b[0;34m)\u001b[0m\u001b[0;34m)\u001b[0m\u001b[0;34m\u001b[0m\u001b[0;34m\u001b[0m\u001b[0m\n\u001b[0m",
      "\u001b[0;32m<ipython-input-5-0f4faa09da1b>\u001b[0m in \u001b[0;36minitial_model\u001b[0;34m(wifi, position, pos_is_observed, pos_is_not_observed)\u001b[0m\n\u001b[1;32m     19\u001b[0m     \u001b[0mx_pre\u001b[0m \u001b[0;34m=\u001b[0m \u001b[0msample\u001b[0m\u001b[0;34m(\u001b[0m\u001b[0;34m\"x_0\"\u001b[0m\u001b[0;34m,\u001b[0m \u001b[0mfloor_uniform2\u001b[0m\u001b[0;34m)\u001b[0m\u001b[0;34m\u001b[0m\u001b[0;34m\u001b[0m\u001b[0m\n\u001b[1;32m     20\u001b[0m \u001b[0;34m\u001b[0m\u001b[0m\n\u001b[0;32m---> 21\u001b[0;31m     \u001b[0;32mfor\u001b[0m \u001b[0mt\u001b[0m \u001b[0;32min\u001b[0m \u001b[0mpyro\u001b[0m\u001b[0;34m.\u001b[0m\u001b[0mmarkov\u001b[0m\u001b[0;34m(\u001b[0m\u001b[0mrange\u001b[0m\u001b[0;34m(\u001b[0m\u001b[0;36m1\u001b[0m\u001b[0;34m,\u001b[0m \u001b[0mT\u001b[0m \u001b[0;34m+\u001b[0m \u001b[0;36m1\u001b[0m\u001b[0;34m)\u001b[0m\u001b[0;34m)\u001b[0m\u001b[0;34m:\u001b[0m\u001b[0;34m\u001b[0m\u001b[0;34m\u001b[0m\u001b[0m\n\u001b[0m\u001b[1;32m     22\u001b[0m         \u001b[0;31m# first compute the parameters of the diagonal gaussian distribution p(z_t | z_{t-1})\u001b[0m\u001b[0;34m\u001b[0m\u001b[0;34m\u001b[0m\u001b[0;34m\u001b[0m\u001b[0m\n\u001b[1;32m     23\u001b[0m         \u001b[0mx\u001b[0m \u001b[0;34m=\u001b[0m \u001b[0msample\u001b[0m\u001b[0;34m(\u001b[0m\u001b[0;34m\"x_%d\"\u001b[0m \u001b[0;34m%\u001b[0m \u001b[0mt\u001b[0m\u001b[0;34m,\u001b[0m \u001b[0mdist\u001b[0m\u001b[0;34m.\u001b[0m\u001b[0mMultivariateNormal\u001b[0m\u001b[0;34m(\u001b[0m\u001b[0mx_pre\u001b[0m\u001b[0;34m,\u001b[0m \u001b[0msigma\u001b[0m\u001b[0;34m*\u001b[0m\u001b[0mtorch\u001b[0m\u001b[0;34m.\u001b[0m\u001b[0meye\u001b[0m\u001b[0;34m(\u001b[0m\u001b[0;36m2\u001b[0m\u001b[0;34m)\u001b[0m\u001b[0;34m)\u001b[0m\u001b[0;34m)\u001b[0m\u001b[0;34m\u001b[0m\u001b[0;34m\u001b[0m\u001b[0m\n",
      "\u001b[0;31mNameError\u001b[0m: name 'pyro' is not defined"
     ]
    }
   ],
   "source": [
    "def initial_model(wifi,wifi_is_observed, position=None, pos_is_observed=None, pos_is_not_observed=None):\n",
    "    #T = position.shape[0]\n",
    "    T = wifi.shape[0]\n",
    "    K = wifi.shape[1]\n",
    "    \n",
    "    pos_observed = None if position is None else position[pos_is_observed]\n",
    "\n",
    "    sigma_eps = 0.1/200\n",
    "    sigma = 0.1/200\n",
    "\n",
    "    mu_omega_0 = -45/200\n",
    "    sigma_omega_0 = 5/200\n",
    "    #sigma_omega = 2/200\n",
    "\n",
    "    with plate(\"wifis\", K):\n",
    "        omega_0 = sample(\"omega_0\", dist.Normal(mu_omega_0, sigma_omega_0))\n",
    "        wifi_locations = sample(\"wifi_location\", floor_uniform2)\n",
    "\n",
    "    x_pre = sample(\"x_0\", floor_uniform2)\n",
    "\n",
    "    for t in pyro.markov(range(1, T + 1)):\n",
    "        # first compute the parameters of the diagonal gaussian distribution p(z_t | z_{t-1})\n",
    "        x = sample(\"x_%d\" % t, dist.MultivariateNormal(x_pre, sigma*torch.eye(2)))\n",
    "        \n",
    "        if(pos_is_observed[t]):\n",
    "            x_hat = sample(\"x_hat_%d\" %t,fn=dist.Normal(loc=x, scale=sigma_eps),obs=pos_observed[t])\n",
    "        \n",
    "        x_pre = x\n",
    "\n",
    "    distance = torch.cdist(wifi_locations, x)\n",
    "    signal_strength= omega_0 + 2*jnp.log(distance)\n",
    "    omega = sample(\n",
    "            name=\"omega\",\n",
    "            fn=dist.Normal(loc=signal_strength[wifi_is_observed], scale=sigma_omega),\n",
    "            obs=wifi[wifi_is_observed]\n",
    "    )\n",
    "    \n",
    "with handlers.seed(rng_seed=0):\n",
    "    print(initial_model(wifi, position))"
   ]
  }
 ],
 "metadata": {
  "interpreter": {
   "hash": "24b97278e2e150cdc3ec234e21df53241f7e423a3d0e0e5bf9f8d6d91aa4655b"
  },
  "kernelspec": {
   "display_name": "Python 3.8.5 64-bit ('.venv': venv)",
   "name": "python3"
  },
  "language_info": {
   "name": "python",
   "version": ""
  },
  "metadata": {
   "interpreter": {
    "hash": "24b97278e2e150cdc3ec234e21df53241f7e423a3d0e0e5bf9f8d6d91aa4655b"
   }
  },
  "orig_nbformat": 2
 },
 "nbformat": 4,
 "nbformat_minor": 2
}